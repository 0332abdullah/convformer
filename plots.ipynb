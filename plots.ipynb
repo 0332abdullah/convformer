{
 "cells": [
  {
   "cell_type": "code",
   "execution_count": 37,
   "metadata": {},
   "outputs": [],
   "source": [
    "import pandas as pd\n",
    "from matplotlib import pyplot as plt\n",
    "import os\n",
    "from ast import literal_eval"
   ]
  },
  {
   "cell_type": "code",
   "execution_count": 3,
   "metadata": {},
   "outputs": [],
   "source": [
    "files = os.listdir('./results')"
   ]
  },
  {
   "cell_type": "code",
   "execution_count": 21,
   "metadata": {},
   "outputs": [
    {
     "name": "stdout",
     "output_type": "stream",
     "text": [
      "concat_6_(4, 4).csv\n"
     ]
    }
   ],
   "source": [
    "x = files[0]\n",
    "prliteral_eval( x)\n",
    "a,b,c = x.replace('.csv', '').split('_')"
   ]
  },
  {
   "cell_type": "code",
   "execution_count": 9,
   "metadata": {},
   "outputs": [
    {
     "name": "stdout",
     "output_type": "stream",
     "text": [
      "concat 6 (4, 4)\n"
     ]
    }
   ],
   "source": [
    "prliteral_eval( a,b,c)"
   ]
  },
  {
   "cell_type": "code",
   "execution_count": 13,
   "metadata": {},
   "outputs": [
    {
     "name": "stdout",
     "output_type": "stream",
     "text": [
      "abc\n"
     ]
    }
   ],
   "source": [
    "x = 'abc'\n",
    "x.replace('c','')\n",
    "prliteral_eval( x)"
   ]
  },
  {
   "cell_type": "code",
   "execution_count": 18,
   "metadata": {},
   "outputs": [
    {
     "data": {
      "text/plain": [
       "1"
      ]
     },
     "execution_count": 18,
     "metadata": {},
     "output_type": "execute_result"
    }
   ],
   "source": [
    "df = pd.DataFrame({'weight':[1]})\n",
    "df['weight'][0]"
   ]
  },
  {
   "cell_type": "code",
   "execution_count": 32,
   "metadata": {},
   "outputs": [],
   "source": [
    "results4x4 = {'concat_acc':[None]*3, 'inline_acc':[None]*3, 'mm_acc':[None]*3, 'pct_acc':[None]*3,\n",
    "    'concat_params':[None]*3, 'inline_params':[None]*3, 'mm_params':[None]*3, 'pct_params':[None]*3}\n",
    "results2x2 = {'concat_acc':[None]*3, 'inline_acc':[None]*3, 'mm_acc':[None]*3, 'pct_acc':[None]*3,\n",
    "    'concat_params':[None]*3, 'inline_params':[None]*3, 'mm_params':[None]*3, 'pct_params':[None]*3}\n",
    "for file in files:\n",
    "    blocktype, depth, _ = file.split('_')\n",
    "    df = pd.read_csv(f'./results/{file}')\n",
    "    acc = max(df['test_accs'])\n",
    "    numparams = df['numparams'][0]\n",
    "    depths = [1,6,9]\n",
    "    assert int(depth) in depths\n",
    "    depth = depths.index(int(depth))\n",
    "    if '(4' in file:\n",
    "        results4x4[f'{blocktype}_acc'][depth] = (acc)\n",
    "        results4x4[f'{blocktype}_params'][depth] = (numparams)\n",
    "    if '(2' in file:\n",
    "        results2x2[f'{blocktype}_acc'][depth] = (acc)\n",
    "        results2x2[f'{blocktype}_params'][depth] = (numparams)\n",
    "\n",
    "\n"
   ]
  },
  {
   "cell_type": "code",
   "execution_count": 36,
   "metadata": {},
   "outputs": [],
   "source": [
    "df2 = pd.DataFrame(results2x2)\n",
    "df4 = pd.DataFrame(results4x4)"
   ]
  },
  {
   "cell_type": "code",
   "execution_count": null,
   "metadata": {},
   "outputs": [],
   "source": [
    "plt.plot(df2"
   ]
  }
 ],
 "metadata": {
  "kernelspec": {
   "display_name": "Python 3.9.12 ('base')",
   "language": "python",
   "name": "python3"
  },
  "language_info": {
   "codemirror_mode": {
    "name": "ipython",
    "version": 3
   },
   "file_extension": ".py",
   "mimetype": "text/x-python",
   "name": "python",
   "nbconvert_exporter": "python",
   "pygments_lexer": "ipython3",
   "version": "3.9.12"
  },
  "orig_nbformat": 4,
  "vscode": {
   "interpreter": {
    "hash": "3c5a1462f2b40a660dec9cee9f12216774137e2c573ead9d93f72aee063c56cf"
   }
  }
 },
 "nbformat": 4,
 "nbformat_minor": 2
}
